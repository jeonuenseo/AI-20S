{
  "nbformat": 4,
  "nbformat_minor": 0,
  "metadata": {
    "colab": {
      "name": "08_Linear_regression.ipynb",
      "provenance": [],
      "collapsed_sections": [],
      "authorship_tag": "ABX9TyNTVR/NDgzZxponmQ+syMW1",
      "include_colab_link": true
    },
    "kernelspec": {
      "name": "python3",
      "display_name": "Python 3"
    }
  },
  "cells": [
    {
      "cell_type": "markdown",
      "metadata": {
        "id": "view-in-github",
        "colab_type": "text"
      },
      "source": [
        "<a href=\"https://colab.research.google.com/github/jeonuenseo/eunseo/blob/master/08_Linear_regression.ipynb\" target=\"_parent\"><img src=\"https://colab.research.google.com/assets/colab-badge.svg\" alt=\"Open In Colab\"/></a>"
      ]
    },
    {
      "cell_type": "code",
      "metadata": {
        "id": "q5yxjLl_urUV",
        "colab_type": "code",
        "colab": {
          "base_uri": "https://localhost:8080/",
          "height": 90
        },
        "outputId": "cb4d924f-204b-498b-8799-9a6b65d4dc6c"
      },
      "source": [
        "#import tensorflow as tf\n",
        "import tensorflow.compat.v1 as tf\n",
        "tf.disable_v2_behavior()"
      ],
      "execution_count": null,
      "outputs": [
        {
          "output_type": "stream",
          "text": [
            "WARNING:tensorflow:From /usr/local/lib/python3.6/dist-packages/tensorflow/python/compat/v2_compat.py:96: disable_resource_variables (from tensorflow.python.ops.variable_scope) is deprecated and will be removed in a future version.\n",
            "Instructions for updating:\n",
            "non-resource variables are not supported in the long term\n"
          ],
          "name": "stdout"
        }
      ]
    },
    {
      "cell_type": "code",
      "metadata": {
        "id": "OZ306rKku_o4",
        "colab_type": "code",
        "colab": {}
      },
      "source": [
        "import numpy as np\n",
        "import matplotlib.pyplot as plt"
      ],
      "execution_count": null,
      "outputs": []
    },
    {
      "cell_type": "code",
      "metadata": {
        "id": "p456ZaDrvE27",
        "colab_type": "code",
        "colab": {}
      },
      "source": [
        "x_train = [1, 2, 3]"
      ],
      "execution_count": null,
      "outputs": []
    },
    {
      "cell_type": "code",
      "metadata": {
        "id": "LMTmexwWvRLr",
        "colab_type": "code",
        "colab": {}
      },
      "source": [
        "y_train = [2+1 +0.1, 4+1 -0.2, 6+1 +0.15]"
      ],
      "execution_count": null,
      "outputs": []
    },
    {
      "cell_type": "code",
      "metadata": {
        "id": "MkpATyUwvS0U",
        "colab_type": "code",
        "colab": {
          "base_uri": "https://localhost:8080/",
          "height": 297
        },
        "outputId": "06e8668a-136f-4093-e50b-afb620f1cf44"
      },
      "source": [
        "plt.plot(x_train, y_train,'.-')\n",
        "plt.xlabel('X')\n",
        "plt.ylabel('Y')"
      ],
      "execution_count": null,
      "outputs": [
        {
          "output_type": "execute_result",
          "data": {
            "text/plain": [
              "Text(0, 0.5, 'Y')"
            ]
          },
          "metadata": {
            "tags": []
          },
          "execution_count": 6
        },
        {
          "output_type": "display_data",
          "data": {
            "image/png": "[encoded data removed]",
            "text/plain": [
              "<Figure size 432x288 with 1 Axes>"
            ]
          },
          "metadata": {
            "tags": [],
            "needs_background": "light"
          }
        }
      ]
    },
    {
      "cell_type": "code",
      "metadata": {
        "id": "iNG-5XwHvz8J",
        "colab_type": "code",
        "colab": {}
      },
      "source": [
        ""
      ],
      "execution_count": null,
      "outputs": []
    },
    {
      "cell_type": "markdown",
      "metadata": {
        "id": "ckIVwdL8v3Xt",
        "colab_type": "text"
      },
      "source": [
        "##초기화"
      ]
    },
    {
      "cell_type": "code",
      "metadata": {
        "id": "85iPPIzwv5qd",
        "colab_type": "code",
        "colab": {}
      },
      "source": [
        "w0 = 7; \n",
        "b0 = -10; "
      ],
      "execution_count": null,
      "outputs": []
    },
    {
      "cell_type": "code",
      "metadata": {
        "id": "AhJSU_Wwv7gZ",
        "colab_type": "code",
        "colab": {}
      },
      "source": [
        ""
      ],
      "execution_count": null,
      "outputs": []
    },
    {
      "cell_type": "markdown",
      "metadata": {
        "id": "sEi0uMAgwDV3",
        "colab_type": "text"
      },
      "source": [
        "##Parameter 설정"
      ]
    },
    {
      "cell_type": "code",
      "metadata": {
        "id": "iXN0lxOswHd3",
        "colab_type": "code",
        "colab": {}
      },
      "source": [
        "W = tf.Variable(w0*tf.ones([1]), name='weight')\n",
        "b = tf.Variable(b0*tf.ones([1]), name='bias')"
      ],
      "execution_count": null,
      "outputs": []
    },
    {
      "cell_type": "markdown",
      "metadata": {
        "id": "_ihogvJCwMK-",
        "colab_type": "text"
      },
      "source": [
        "##Our hypothesis XW+b"
      ]
    },
    {
      "cell_type": "code",
      "metadata": {
        "id": "FEjlZYbGwNNj",
        "colab_type": "code",
        "colab": {}
      },
      "source": [
        "hypothesis = x_train * W + b"
      ],
      "execution_count": null,
      "outputs": []
    },
    {
      "cell_type": "markdown",
      "metadata": {
        "id": "FRaZDkpFwR38",
        "colab_type": "text"
      },
      "source": [
        "##cost/loss function"
      ]
    },
    {
      "cell_type": "code",
      "metadata": {
        "id": "7HBgE-xDwSpw",
        "colab_type": "code",
        "colab": {}
      },
      "source": [
        "cost = tf.reduce_mean(tf.square(hypothesis - y_train))"
      ],
      "execution_count": null,
      "outputs": []
    },
    {
      "cell_type": "markdown",
      "metadata": {
        "id": "pYOnQx5fwW5L",
        "colab_type": "text"
      },
      "source": [
        "##Optimizer 설정"
      ]
    },
    {
      "cell_type": "code",
      "metadata": {
        "id": "qrKMy5SOwbGw",
        "colab_type": "code",
        "colab": {}
      },
      "source": [
        "optimizer = tf.train.GradientDescentOptimizer(learning_rate=0.01)\n",
        "#optimizer = tf.compat.v1.train.GradientDescentOptimizer(learning_rate=0.01)\n",
        "train = optimizer.minimize(cost)"
      ],
      "execution_count": null,
      "outputs": []
    },
    {
      "cell_type": "markdown",
      "metadata": {
        "id": "am6qe6DvwekH",
        "colab_type": "text"
      },
      "source": [
        "##Launch the graph in a session"
      ]
    },
    {
      "cell_type": "code",
      "metadata": {
        "id": "s414SyNWwfrg",
        "colab_type": "code",
        "colab": {}
      },
      "source": [
        "sess = tf.Session()"
      ],
      "execution_count": null,
      "outputs": []
    },
    {
      "cell_type": "markdown",
      "metadata": {
        "id": "V7ohP59zwklo",
        "colab_type": "text"
      },
      "source": [
        "##Initializes global variables in the graph."
      ]
    },
    {
      "cell_type": "code",
      "metadata": {
        "id": "_PjX4PF3wlan",
        "colab_type": "code",
        "colab": {}
      },
      "source": [
        "sess.run(tf.global_variables_initializer())"
      ],
      "execution_count": null,
      "outputs": []
    },
    {
      "cell_type": "markdown",
      "metadata": {
        "id": "YDLZ3CVWwtU5",
        "colab_type": "text"
      },
      "source": [
        "##RUN !"
      ]
    },
    {
      "cell_type": "code",
      "metadata": {
        "id": "seMPWYShw0kL",
        "colab_type": "code",
        "colab": {}
      },
      "source": [
        "nb_epoch = 2000"
      ],
      "execution_count": null,
      "outputs": []
    },
    {
      "cell_type": "code",
      "metadata": {
        "id": "RYl0tjrjw520",
        "colab_type": "code",
        "colab": {
          "base_uri": "https://localhost:8080/",
          "height": 105
        },
        "outputId": "ba9a74ce-9ec3-4755-cdea-f291a9f72cd0"
      },
      "source": [
        "for i in range(100):\n",
        "  if i % 20 == 0:\n",
        "   print(i)"
      ],
      "execution_count": null,
      "outputs": [
        {
          "output_type": "stream",
          "text": [
            "0\n",
            "20\n",
            "40\n",
            "60\n",
            "80\n"
          ],
          "name": "stdout"
        }
      ]
    },
    {
      "cell_type": "code",
      "metadata": {
        "id": "BDQ-HSrYxA0s",
        "colab_type": "code",
        "colab": {}
      },
      "source": [
        "vw = [] # empty list\n",
        "vb = []\n",
        "vcost = []"
      ],
      "execution_count": null,
      "outputs": []
    },
    {
      "cell_type": "code",
      "metadata": {
        "id": "-im_dKCexNPQ",
        "colab_type": "code",
        "colab": {
          "base_uri": "https://localhost:8080/",
          "height": 386
        },
        "outputId": "de52cf66-eab8-4ff3-ca59-c3df2ef6bb09"
      },
      "source": [
        "for step in range(nb_epoch+1):\n",
        "  sess.run(train)\n",
        "\n",
        "  w1 = sess.run(W)[0] # slope\n",
        "  b1 = sess.run(b)[0] # bias\n",
        "  cost1 = sess.run(cost)\n",
        "  \n",
        "  vw.append(w1)\n",
        "  vb.append(b1)\n",
        "  vcost.append(cost1)\n",
        "  \n",
        "  if step % 100 == 0: # 100번마다 결과 출력해보기 (안해도 되지만..)\n",
        "    print(step, '--', cost1, '--', w1, '--', b1)"
      ],
      "execution_count": null,
      "outputs": [
        {
          "output_type": "stream",
          "text": [
            "0 -- 17.451681 -- 6.9743333 -- -9.979667\n",
            "100 -- 10.741467 -- 5.8273573 -- -7.6769824\n",
            "200 -- 6.6465454 -- 5.0139985 -- -5.8280296\n",
            "300 -- 4.1161275 -- 4.3746243 -- -4.3745832\n",
            "400 -- 2.5524843 -- 3.872019 -- -3.2320423\n",
            "500 -- 1.5862474 -- 3.4769251 -- -2.3339\n",
            "600 -- 0.9891723 -- 3.1663456 -- -1.6278797\n",
            "700 -- 0.6202163 -- 2.9222016 -- -1.0728834\n",
            "800 -- 0.3922235 -- 2.730282 -- -0.636605\n",
            "900 -- 0.25133815 -- 2.5794158 -- -0.29365098\n",
            "1000 -- 0.1642795 -- 2.4608214 -- -0.024057968\n",
            "1100 -- 0.11048248 -- 2.3675954 -- 0.18786687\n",
            "1200 -- 0.07723926 -- 2.294311 -- 0.3544592\n",
            "1300 -- 0.056697037 -- 2.2367034 -- 0.4854154\n",
            "1400 -- 0.04400313 -- 2.1914184 -- 0.588359\n",
            "1500 -- 0.036159087 -- 2.1558201 -- 0.6692825\n",
            "1600 -- 0.031311933 -- 2.1278367 -- 0.73289526\n",
            "1700 -- 0.028316746 -- 2.1058393 -- 0.7829006\n",
            "1800 -- 0.026465826 -- 2.0885472 -- 0.8222094\n",
            "1900 -- 0.025322104 -- 2.0749538 -- 0.85311013\n",
            "2000 -- 0.02461526 -- 2.0642674 -- 0.87740105\n"
          ],
          "name": "stdout"
        }
      ]
    },
    {
      "cell_type": "code",
      "metadata": {
        "id": "dqVd3z-c2lch",
        "colab_type": "code",
        "colab": {
          "base_uri": "https://localhost:8080/",
          "height": 52
        },
        "outputId": "e077e1b8-bb00-4f8c-d9c1-625fc73a4668"
      },
      "source": [
        "w1 = sess.run(W)[0] # slope\n",
        "b1 = sess.run(b)[0] # bias\n",
        "str1 = 'y={:.3}x + {:.3}'.format(w1, b1)\n",
        "print(w1, b1)\n",
        "print(str1)"
      ],
      "execution_count": null,
      "outputs": [
        {
          "output_type": "stream",
          "text": [
            "2.0642674 0.87740105\n",
            "y=2.06x + 0.877\n"
          ],
          "name": "stdout"
        }
      ]
    },
    {
      "cell_type": "code",
      "metadata": {
        "id": "QedtbToYxjFR",
        "colab_type": "code",
        "colab": {
          "base_uri": "https://localhost:8080/",
          "height": 52
        },
        "outputId": "2b726e5a-38e6-449f-dd70-851d0d7dad8b"
      },
      "source": [
        "w1 = sess.run(W)[0] # slope\n",
        "b1 = sess.run(b)[0] # bias\n",
        "str1 = 'y={:.3}x + {:.3}'.format(w1, b1)\n",
        "print(w1, b1)\n",
        "print(str1)"
      ],
      "execution_count": null,
      "outputs": [
        {
          "output_type": "stream",
          "text": [
            "2.0642674 0.87740105\n",
            "y=2.06x + 0.877\n"
          ],
          "name": "stdout"
        }
      ]
    },
    {
      "cell_type": "code",
      "metadata": {
        "id": "yKdEJzRvxrr3",
        "colab_type": "code",
        "colab": {
          "base_uri": "https://localhost:8080/",
          "height": 313
        },
        "outputId": "273516dd-4e92-45fd-c987-a3132667b113"
      },
      "source": [
        "plt.figure(1)\n",
        "plt.plot(x_train, y_train,'o')\n",
        "x1 = np.min(x_train)-1, np.max(x_train)+1\n",
        "y1 = np.dot(w1,x1) + b1\n",
        "plt.plot(x1, y1)\n",
        "plt.grid()\n",
        "plt.xlabel('epoch')\n",
        "plt.title(str1)"
      ],
      "execution_count": null,
      "outputs": [
        {
          "output_type": "execute_result",
          "data": {
            "text/plain": [
              "Text(0.5, 1.0, 'y=2.06x + 0.877')"
            ]
          },
          "metadata": {
            "tags": []
          },
          "execution_count": 20
        },
        {
          "output_type": "display_data",
          "data": {
            "image/png": "[encoded data removed]",
            "text/plain": [
              "<Figure size 432x288 with 1 Axes>"
            ]
          },
          "metadata": {
            "tags": [],
            "needs_background": "light"
          }
        }
      ]
    },
    {
      "cell_type": "code",
      "metadata": {
        "id": "h-qCE7H9x4Mg",
        "colab_type": "code",
        "colab": {
          "base_uri": "https://localhost:8080/",
          "height": 297
        },
        "outputId": "6b190434-1690-407e-f32c-c5f792d7c23b"
      },
      "source": [
        "plt.plot(vb)\n",
        "plt.grid()\n",
        "plt.xlabel('epoch')"
      ],
      "execution_count": null,
      "outputs": [
        {
          "output_type": "execute_result",
          "data": {
            "text/plain": [
              "Text(0.5, 0, 'epoch')"
            ]
          },
          "metadata": {
            "tags": []
          },
          "execution_count": 21
        },
        {
          "output_type": "display_data",
          "data": {
            "image/png": "[encoded data removed]",
            "text/plain": [
              "<Figure size 432x288 with 1 Axes>"
            ]
          },
          "metadata": {
            "tags": [],
            "needs_background": "light"
          }
        }
      ]
    },
    {
      "cell_type": "code",
      "metadata": {
        "id": "mtsHBcfvx6UO",
        "colab_type": "code",
        "colab": {
          "base_uri": "https://localhost:8080/",
          "height": 282
        },
        "outputId": "c1df50c7-cd8d-4556-ab59-28f4344d812c"
      },
      "source": [
        "plt.plot(vw)"
      ],
      "execution_count": null,
      "outputs": [
        {
          "output_type": "execute_result",
          "data": {
            "text/plain": [
              "[<matplotlib.lines.Line2D at 0x7f60b6fc06a0>]"
            ]
          },
          "metadata": {
            "tags": []
          },
          "execution_count": 22
        },
        {
          "output_type": "display_data",
          "data": {
            "image/png": "[encoded data removed]",
            "text/plain": [
              "<Figure size 432x288 with 1 Axes>"
            ]
          },
          "metadata": {
            "tags": [],
            "needs_background": "light"
          }
        }
      ]
    },
    {
      "cell_type": "code",
      "metadata": {
        "id": "qB9jS4AiizAQ",
        "colab_type": "code",
        "colab": {
          "base_uri": "https://localhost:8080/",
          "height": 282
        },
        "outputId": "07c625a8-65d6-452a-b796-afe97151dd58"
      },
      "source": [
        "plt.plot(vcost)"
      ],
      "execution_count": null,
      "outputs": [
        {
          "output_type": "execute_result",
          "data": {
            "text/plain": [
              "[<matplotlib.lines.Line2D at 0x7f60b6f26b38>]"
            ]
          },
          "metadata": {
            "tags": []
          },
          "execution_count": 23
        },
        {
          "output_type": "display_data",
          "data": {
            "image/png": "[encoded data removed]",
            "text/plain": [
              "<Figure size 432x288 with 1 Axes>"
            ]
          },
          "metadata": {
            "tags": [],
            "needs_background": "light"
          }
        }
      ]
    },
    {
      "cell_type": "code",
      "metadata": {
        "id": "FtVRlekwo60_",
        "colab_type": "code",
        "colab": {}
      },
      "source": [
        ""
      ],
      "execution_count": null,
      "outputs": []
    }
  ]
}