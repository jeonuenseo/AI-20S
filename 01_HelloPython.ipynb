{
  "nbformat": 4,
  "nbformat_minor": 0,
  "metadata": {
    "colab": {
      "name": "01-HelloPython.ipynb",
      "provenance": [],
      "collapsed_sections": [],
      "authorship_tag": "ABX9TyOhkSVua6aKOLD/ko3AMMLo",
      "include_colab_link": true
    },
    "kernelspec": {
      "name": "python3",
      "display_name": "Python 3"
    }
  },
  "cells": [
    {
      "cell_type": "markdown",
      "metadata": {
        "id": "view-in-github",
        "colab_type": "text"
      },
      "source": [
        "<a href=\"https://colab.research.google.com/github/jeonuenseo/eunseo/blob/master/01_HelloPython.ipynb\" target=\"_parent\"><img src=\"https://colab.research.google.com/assets/colab-badge.svg\" alt=\"Open In Colab\"/></a>"
      ]
    },
    {
      "cell_type": "markdown",
      "metadata": {
        "id": "L1lpHn8jTZrC",
        "colab_type": "text"
      },
      "source": [
        "##Python tutorial #1"
      ]
    },
    {
      "cell_type": "markdown",
      "metadata": {
        "id": "NV0U7twhALRD",
        "colab_type": "text"
      },
      "source": [
        "##Hello World!"
      ]
    },
    {
      "cell_type": "code",
      "metadata": {
        "id": "wqgGZNA6TuRf",
        "colab_type": "code",
        "colab": {
          "base_uri": "https://localhost:8080/",
          "height": 52
        },
        "outputId": "a10325ac-5786-4ab9-9d9d-e4117ba005d1"
      },
      "source": [
        "print( 'Hello world')\n",
        "print('Hello world {} + {} = {}'.format(2, 3, 2+3))"
      ],
      "execution_count": null,
      "outputs": [
        {
          "output_type": "stream",
          "text": [
            "Hello world\n",
            "Hello world 2 + 3 = 5\n"
          ],
          "name": "stdout"
        }
      ]
    },
    {
      "cell_type": "markdown",
      "metadata": {
        "id": "5PZFbE38AP9e",
        "colab_type": "text"
      },
      "source": [
        "##Basic datatypes"
      ]
    },
    {
      "cell_type": "code",
      "metadata": {
        "id": "6E73JBqnUL9-",
        "colab_type": "code",
        "colab": {
          "base_uri": "https://localhost:8080/",
          "height": 52
        },
        "outputId": "9963fba0-6cfc-475c-a3dd-32f35dfc9af9"
      },
      "source": [
        "x = 3\n",
        "print(type(x)) #Print\"<class 'int'>\n",
        "print(x)       #Print \"3\""
      ],
      "execution_count": null,
      "outputs": [
        {
          "output_type": "stream",
          "text": [
            "<class 'int'>\n",
            "3\n"
          ],
          "name": "stdout"
        }
      ]
    },
    {
      "cell_type": "code",
      "metadata": {
        "id": "HiZO5cQyUZY9",
        "colab_type": "code",
        "colab": {
          "base_uri": "https://localhost:8080/",
          "height": 87
        },
        "outputId": "0143129d-d2eb-45d2-f992-129423f5368d"
      },
      "source": [
        "print(x + 1) # Addition; prints \"4\"\n",
        "print(x - 1) # Subtraction; prints \"2\"\n",
        "print(x * 2) # Multiplication; prints \"6\"\n",
        "print(x ** 2) # Exponentiation; prints \"9\""
      ],
      "execution_count": null,
      "outputs": [
        {
          "output_type": "stream",
          "text": [
            "4\n",
            "2\n",
            "6\n",
            "9\n"
          ],
          "name": "stdout"
        }
      ]
    },
    {
      "cell_type": "markdown",
      "metadata": {
        "id": "Osc29YCOUejn",
        "colab_type": "text"
      },
      "source": [
        "##For statement"
      ]
    },
    {
      "cell_type": "markdown",
      "metadata": {
        "id": "WIfRvTozUjg8",
        "colab_type": "text"
      },
      "source": [
        "range: 영역을 설정"
      ]
    },
    {
      "cell_type": "code",
      "metadata": {
        "id": "6VoifYNiUc7P",
        "colab_type": "code",
        "colab": {
          "base_uri": "https://localhost:8080/",
          "height": 34
        },
        "outputId": "df9c9bfc-e902-4c05-bd3a-6aa95bc6ab10"
      },
      "source": [
        "A = range(5)\n",
        "print(A)"
      ],
      "execution_count": null,
      "outputs": [
        {
          "output_type": "stream",
          "text": [
            "range(0, 5)\n"
          ],
          "name": "stdout"
        }
      ]
    },
    {
      "cell_type": "markdown",
      "metadata": {
        "id": "BNu17ztMWBxt",
        "colab_type": "text"
      },
      "source": [
        "A의 세번째 요소 출력"
      ]
    },
    {
      "cell_type": "code",
      "metadata": {
        "id": "noO8tAmXV_LM",
        "colab_type": "code",
        "colab": {
          "base_uri": "https://localhost:8080/",
          "height": 34
        },
        "outputId": "134c791d-b9ec-44b1-8100-566d23b3b057"
      },
      "source": [
        "print(A[2])"
      ],
      "execution_count": null,
      "outputs": [
        {
          "output_type": "stream",
          "text": [
            "2\n"
          ],
          "name": "stdout"
        }
      ]
    },
    {
      "cell_type": "code",
      "metadata": {
        "id": "6pJP15DpWddx",
        "colab_type": "code",
        "colab": {
          "base_uri": "https://localhost:8080/",
          "height": 105
        },
        "outputId": "2cf6cb3f-0cf7-4773-b7b6-1237b2bfad08"
      },
      "source": [
        "for i in range(5):\n",
        " #print(i, A[i])\n",
        " print('{} ----- {}'.format(i, A[i]))\n"
      ],
      "execution_count": null,
      "outputs": [
        {
          "output_type": "stream",
          "text": [
            "0 ----- 0\n",
            "1 ----- 1\n",
            "2 ----- 2\n",
            "3 ----- 3\n",
            "4 ----- 4\n"
          ],
          "name": "stdout"
        }
      ]
    },
    {
      "cell_type": "markdown",
      "metadata": {
        "id": "4k8cxMLrA2Ak",
        "colab_type": "text"
      },
      "source": [
        "exercise\n",
        "구구단을 작성하시오"
      ]
    },
    {
      "cell_type": "code",
      "metadata": {
        "id": "bOc-cABGb2fT",
        "colab_type": "code",
        "colab": {
          "base_uri": "https://localhost:8080/",
          "height": 175
        },
        "outputId": "76b1b528-744f-419a-f5fc-53c3e545cf76"
      },
      "source": [
        "for i in range(9):\n",
        "  print('{} x {} = {}'.format(2, (i+1), 2*(i+1)))"
      ],
      "execution_count": null,
      "outputs": [
        {
          "output_type": "stream",
          "text": [
            "2 x 1 = 2\n",
            "2 x 2 = 4\n",
            "2 x 3 = 6\n",
            "2 x 4 = 8\n",
            "2 x 5 = 10\n",
            "2 x 6 = 12\n",
            "2 x 7 = 14\n",
            "2 x 8 = 16\n",
            "2 x 9 = 18\n"
          ],
          "name": "stdout"
        }
      ]
    },
    {
      "cell_type": "markdown",
      "metadata": {
        "id": "w6lT9NWUBmJ0",
        "colab_type": "text"
      },
      "source": [
        "##operators"
      ]
    },
    {
      "cell_type": "code",
      "metadata": {
        "id": "DwC6oBxJBJ8i",
        "colab_type": "code",
        "colab": {
          "base_uri": "https://localhost:8080/",
          "height": 70
        },
        "outputId": "e3d3b7e3-414a-499a-e185-ffec753b0bc6"
      },
      "source": [
        "print((1, 2, 3) * 3)\n",
        "print([1, 2, 3] * 3)\n",
        "print(\"Hello \"*3)"
      ],
      "execution_count": null,
      "outputs": [
        {
          "output_type": "stream",
          "text": [
            "(1, 2, 3, 1, 2, 3, 1, 2, 3)\n",
            "[1, 2, 3, 1, 2, 3, 1, 2, 3]\n",
            "Hello Hello Hello \n"
          ],
          "name": "stdout"
        }
      ]
    },
    {
      "cell_type": "markdown",
      "metadata": {
        "id": "icf8lvoNBv6f",
        "colab_type": "text"
      },
      "source": [
        "##Containers\n",
        "Python includes several built-in container types: lists, dictionaries, sets, and tuples.\n"
      ]
    },
    {
      "cell_type": "markdown",
      "metadata": {
        "id": "8uOL4cTaB0w4",
        "colab_type": "text"
      },
      "source": [
        "##Tuple\n",
        "A simple immutable (변경할 수 없는, 불변의) ordered sequence of items"
      ]
    },
    {
      "cell_type": "code",
      "metadata": {
        "id": "EX8ywzEEBsrk",
        "colab_type": "code",
        "colab": {
          "base_uri": "https://localhost:8080/",
          "height": 52
        },
        "outputId": "44823d7b-906b-472b-9ef1-c59200f12834"
      },
      "source": [
        "# -*- coding: utf-8 -*-\n",
        "# creating a tuple\n",
        "months = ('January','February','March','April','May','June',\\\n",
        "'July','August','September','October','November','December')\n",
        "print(months[0])\n",
        "print(\"index of 7 ==> \" , months[7])"
      ],
      "execution_count": null,
      "outputs": [
        {
          "output_type": "stream",
          "text": [
            "January\n",
            "index of 7 ==>  August\n"
          ],
          "name": "stdout"
        }
      ]
    },
    {
      "cell_type": "markdown",
      "metadata": {
        "id": "UoWuZJraCbiE",
        "colab_type": "text"
      },
      "source": [
        "하나씩 출력하기"
      ]
    },
    {
      "cell_type": "code",
      "metadata": {
        "id": "uuZks2wDB66H",
        "colab_type": "code",
        "colab": {
          "base_uri": "https://localhost:8080/",
          "height": 228
        },
        "outputId": "26cd0eb1-1ad3-49e4-ea6a-1f20153659e7"
      },
      "source": [
        "# iterate through them:\n",
        "for item in months:\n",
        " print (item)"
      ],
      "execution_count": null,
      "outputs": [
        {
          "output_type": "stream",
          "text": [
            "January\n",
            "February\n",
            "March\n",
            "April\n",
            "May\n",
            "June\n",
            "July\n",
            "August\n",
            "September\n",
            "October\n",
            "November\n",
            "December\n"
          ],
          "name": "stdout"
        }
      ]
    },
    {
      "cell_type": "code",
      "metadata": {
        "id": "55Gx-SJyCtgp",
        "colab_type": "code",
        "colab": {
          "base_uri": "https://localhost:8080/",
          "height": 140
        },
        "outputId": "61a5d5f5-a357-4173-8deb-65354e5e5ebf"
      },
      "source": [
        "t = ('john', 32, (2,3,4,5), 'hello')\n",
        "print(t)\n",
        "print(t[2])\n",
        "print(t[2][1])\n",
        "print(t[:2]) # index 포함 X\n",
        "print(t[2:]) # index 포함 O\n",
        "print(t[-1])\n",
        "print(t[-2])"
      ],
      "execution_count": null,
      "outputs": [
        {
          "output_type": "stream",
          "text": [
            "('john', 32, (2, 3, 4, 5), 'hello')\n",
            "(2, 3, 4, 5)\n",
            "3\n",
            "('john', 32)\n",
            "((2, 3, 4, 5), 'hello')\n",
            "hello\n",
            "(2, 3, 4, 5)\n"
          ],
          "name": "stdout"
        }
      ]
    },
    {
      "cell_type": "markdown",
      "metadata": {
        "id": "iarZm2EGI0hH",
        "colab_type": "text"
      },
      "source": [
        "List\n"
      ]
    },
    {
      "cell_type": "markdown",
      "metadata": {
        "id": "uhgFmUhzI62W",
        "colab_type": "text"
      },
      "source": [
        "Mutable (바꿀수 있는, 변경가능한) ordered sequence of items of mixed types\n"
      ]
    },
    {
      "cell_type": "code",
      "metadata": {
        "id": "nY-3bFGlIzma",
        "colab_type": "code",
        "colab": {
          "base_uri": "https://localhost:8080/",
          "height": 34
        },
        "outputId": "3212625e-2758-4eb1-b926-fd8eac00d7ea"
      },
      "source": [
        "li = ['hallym', 1, 3.141572, 'hello']\n",
        "print(li)"
      ],
      "execution_count": null,
      "outputs": [
        {
          "output_type": "stream",
          "text": [
            "['hallym', 1, 3.141572, 'hello']\n"
          ],
          "name": "stdout"
        }
      ]
    },
    {
      "cell_type": "code",
      "metadata": {
        "id": "y8OxaiDfI-J8",
        "colab_type": "code",
        "colab": {
          "base_uri": "https://localhost:8080/",
          "height": 34
        },
        "outputId": "a4914a21-dfb5-4359-df2a-036c5430e358"
      },
      "source": [
        "li[1] = 45\n",
        "print(li)"
      ],
      "execution_count": null,
      "outputs": [
        {
          "output_type": "stream",
          "text": [
            "['hallym', 45, 3.141572, 'hello']\n"
          ],
          "name": "stdout"
        }
      ]
    },
    {
      "cell_type": "code",
      "metadata": {
        "id": "Qs8hble3JBqV",
        "colab_type": "code",
        "colab": {
          "base_uri": "https://localhost:8080/",
          "height": 34
        },
        "outputId": "7cee9649-33dd-4a56-8155-e821529b5690"
      },
      "source": [
        "li.append('September')\n",
        "print(li)"
      ],
      "execution_count": null,
      "outputs": [
        {
          "output_type": "stream",
          "text": [
            "['hallym', 45, 3.141572, 'hello', 'September']\n"
          ],
          "name": "stdout"
        }
      ]
    },
    {
      "cell_type": "markdown",
      "metadata": {
        "id": "cD32iQ91JGP8",
        "colab_type": "text"
      },
      "source": [
        "리스트에 새로운 것이 뒤에 붙은 것(append)을 확인 가능"
      ]
    },
    {
      "cell_type": "code",
      "metadata": {
        "id": "62E6R3vHJErp",
        "colab_type": "code",
        "colab": {}
      },
      "source": [
        "#비어 있는 리스트 만들기\n",
        "v = []"
      ],
      "execution_count": null,
      "outputs": []
    },
    {
      "cell_type": "code",
      "metadata": {
        "id": "PiftrjwuJa1l",
        "colab_type": "code",
        "colab": {
          "base_uri": "https://localhost:8080/",
          "height": 70
        },
        "outputId": "2070ec47-ca76-4696-e0dc-42f3cad15b9b"
      },
      "source": [
        "#비어있는 리스트에 값 추가하기\n",
        "for i in range(0,3):\n",
        "  v.append(i*5)\n",
        "  print(i, v)"
      ],
      "execution_count": null,
      "outputs": [
        {
          "output_type": "stream",
          "text": [
            "0 [0]\n",
            "1 [0, 5]\n",
            "2 [0, 5, 10]\n"
          ],
          "name": "stdout"
        }
      ]
    },
    {
      "cell_type": "markdown",
      "metadata": {
        "id": "2dQZHcchJkd3",
        "colab_type": "text"
      },
      "source": [
        "+연산자"
      ]
    },
    {
      "cell_type": "code",
      "metadata": {
        "id": "jW0W9MOPJi31",
        "colab_type": "code",
        "colab": {
          "base_uri": "https://localhost:8080/",
          "height": 70
        },
        "outputId": "b0b3fbda-57be-46f7-afe4-4ad8175e8e39"
      },
      "source": [
        "print((1, 2, 3) + (4, 5, 6))\n",
        "print([1, 2, 3] + [4, 5, 6])\n",
        "print(\"Hello\" + \" \" + \"World\")"
      ],
      "execution_count": null,
      "outputs": [
        {
          "output_type": "stream",
          "text": [
            "(1, 2, 3, 4, 5, 6)\n",
            "[1, 2, 3, 4, 5, 6]\n",
            "Hello World\n"
          ],
          "name": "stdout"
        }
      ]
    },
    {
      "cell_type": "markdown",
      "metadata": {
        "id": "0H4tKrSlJruH",
        "colab_type": "text"
      },
      "source": [
        "*연산자"
      ]
    },
    {
      "cell_type": "code",
      "metadata": {
        "id": "MkXPxp4VJntu",
        "colab_type": "code",
        "colab": {
          "base_uri": "https://localhost:8080/",
          "height": 52
        },
        "outputId": "858051a3-f4dd-489f-a778-2de744e03065"
      },
      "source": [
        "y = 2.5\n",
        "print(type(y)) # Prints \"<class 'float'>\"\n",
        "print(y, y + 1, y * 2, y ** 2) # Prints \"2.5 3.5 5.0 6.25\""
      ],
      "execution_count": null,
      "outputs": [
        {
          "output_type": "stream",
          "text": [
            "<class 'float'>\n",
            "2.5 3.5 5.0 6.25\n"
          ],
          "name": "stdout"
        }
      ]
    },
    {
      "cell_type": "markdown",
      "metadata": {
        "id": "ygNr5XoLJwAP",
        "colab_type": "text"
      },
      "source": [
        "Enumeration(열거하기)"
      ]
    },
    {
      "cell_type": "code",
      "metadata": {
        "id": "zWljeaqNJuy_",
        "colab_type": "code",
        "colab": {
          "base_uri": "https://localhost:8080/",
          "height": 70
        },
        "outputId": "836e2add-36e2-4e18-dc92-88426dc3495c"
      },
      "source": [
        "for i, val in enumerate(v):\n",
        "  print('{} ---> {}'.format(i, val))"
      ],
      "execution_count": null,
      "outputs": [
        {
          "output_type": "stream",
          "text": [
            "0 ---> 0\n",
            "1 ---> 5\n",
            "2 ---> 10\n"
          ],
          "name": "stdout"
        }
      ]
    },
    {
      "cell_type": "code",
      "metadata": {
        "id": "so9gqXvgKDw7",
        "colab_type": "code",
        "colab": {
          "base_uri": "https://localhost:8080/",
          "height": 34
        },
        "outputId": "1152ed9e-f7a0-4245-d71c-eef0f2fc80c8"
      },
      "source": [
        "v2 = [ 'A', 'B', 'C', '0', '1', '2', '3']\n",
        "print(v2)"
      ],
      "execution_count": null,
      "outputs": [
        {
          "output_type": "stream",
          "text": [
            "['A', 'B', 'C', '0', '1', '2', '3']\n"
          ],
          "name": "stdout"
        }
      ]
    },
    {
      "cell_type": "code",
      "metadata": {
        "id": "CLXidEM7KGkY",
        "colab_type": "code",
        "colab": {
          "base_uri": "https://localhost:8080/",
          "height": 140
        },
        "outputId": "97cf350f-7b44-4a85-a43f-5e86fe07d7ad"
      },
      "source": [
        "for i, val in enumerate(v2):\n",
        " print('{} ---> {}'.format(i, val))"
      ],
      "execution_count": null,
      "outputs": [
        {
          "output_type": "stream",
          "text": [
            "0 ---> A\n",
            "1 ---> B\n",
            "2 ---> C\n",
            "3 ---> 0\n",
            "4 ---> 1\n",
            "5 ---> 2\n",
            "6 ---> 3\n"
          ],
          "name": "stdout"
        }
      ]
    },
    {
      "cell_type": "code",
      "metadata": {
        "id": "UQMhKoX8KIGC",
        "colab_type": "code",
        "colab": {}
      },
      "source": [
        ""
      ],
      "execution_count": null,
      "outputs": []
    }
  ]
}