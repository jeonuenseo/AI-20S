{
  "nbformat": 4,
  "nbformat_minor": 0,
  "metadata": {
    "kernelspec": {
      "display_name": "Python 3",
      "language": "python",
      "name": "python3"
    },
    "language_info": {
      "codemirror_mode": {
        "name": "ipython",
        "version": 3
      },
      "file_extension": ".py",
      "mimetype": "text/x-python",
      "name": "python",
      "nbconvert_exporter": "python",
      "pygments_lexer": "ipython3",
      "version": "3.6.8"
    },
    "colab": {
      "name": "09_2_logistic_regression.ipynb",
      "provenance": [],
      "collapsed_sections": [],
      "include_colab_link": true
    }
  },
  "cells": [
    {
      "cell_type": "markdown",
      "metadata": {
        "id": "view-in-github",
        "colab_type": "text"
      },
      "source": [
        "<a href=\"https://colab.research.google.com/github/jeonuenseo/eunseo/blob/master/09_2_logistic_regression.ipynb\" target=\"_parent\"><img src=\"https://colab.research.google.com/assets/colab-badge.svg\" alt=\"Open In Colab\"/></a>"
      ]
    },
    {
      "cell_type": "markdown",
      "metadata": {
        "id": "2mzoYH8PKdnR",
        "colab_type": "text"
      },
      "source": [
        "# Logistic Regression 이해하기 : 매우 중요"
      ]
    },
    {
      "cell_type": "code",
      "metadata": {
        "id": "Ff9rUbPmKdnS",
        "colab_type": "code",
        "colab": {
          "base_uri": "https://localhost:8080/",
          "height": 90
        },
        "outputId": "bb2b3726-1b67-458b-d525-f7ff2f48e254"
      },
      "source": [
        "#import tensorflow as tf\n",
        "import tensorflow.compat.v1 as tf\n",
        "tf.disable_v2_behavior()"
      ],
      "execution_count": null,
      "outputs": [
        {
          "output_type": "stream",
          "text": [
            "WARNING:tensorflow:From /usr/local/lib/python3.6/dist-packages/tensorflow/python/compat/v2_compat.py:96: disable_resource_variables (from tensorflow.python.ops.variable_scope) is deprecated and will be removed in a future version.\n",
            "Instructions for updating:\n",
            "non-resource variables are not supported in the long term\n"
          ],
          "name": "stdout"
        }
      ]
    },
    {
      "cell_type": "code",
      "metadata": {
        "id": "WeaP9C82KdnX",
        "colab_type": "code",
        "colab": {}
      },
      "source": [
        "import numpy as np\n",
        "import matplotlib.pyplot as plt"
      ],
      "execution_count": null,
      "outputs": []
    },
    {
      "cell_type": "code",
      "metadata": {
        "id": "aWy7dMccKdnb",
        "colab_type": "code",
        "colab": {}
      },
      "source": [
        "x_data = [[1,2], [2,3], [3,1], [4,3], [5,3], [6,2]]\n",
        "y_data = [[0],[0],[0],[1],[1],[1]]"
      ],
      "execution_count": null,
      "outputs": []
    },
    {
      "cell_type": "code",
      "metadata": {
        "id": "n1ZMrkmeKdnf",
        "colab_type": "code",
        "colab": {}
      },
      "source": [
        "X = tf.placeholder(tf.float32, shape=[None, 2])\n",
        "Y = tf.placeholder(tf.float32, shape=[None, 1])\n",
        " \n",
        "# input = 2, output = 1 \n",
        "W = tf.Variable(tf.random_normal([2,1]), name='weight')\n",
        "# output = 1\n",
        "b = tf.Variable(tf.random_normal([1]), name='bias')"
      ],
      "execution_count": null,
      "outputs": []
    },
    {
      "cell_type": "markdown",
      "metadata": {
        "id": "URsF3yCuKdni",
        "colab_type": "text"
      },
      "source": [
        "### Hypothesis"
      ]
    },
    {
      "cell_type": "code",
      "metadata": {
        "id": "ZlxRccIqKdni",
        "colab_type": "code",
        "colab": {}
      },
      "source": [
        "# sigmoid function 은 우리의 가설 H(X) = 1/(1+e^(-w.transpose * X))\n",
        "# tf.div(1., tf.exp(tf.matmul(X, W) + b)) 와 같음\n",
        "hypothesis = tf.sigmoid(tf.matmul(X, W) + b)"
      ],
      "execution_count": null,
      "outputs": []
    },
    {
      "cell_type": "code",
      "metadata": {
        "id": "UfS933jQKdno",
        "colab_type": "code",
        "colab": {}
      },
      "source": [
        "# 새롭게 정의된 오차함수\n",
        "cost = -tf.reduce_mean(Y * tf.log(hypothesis) + (1 - Y) * (tf.log(1 - hypothesis)))\n",
        " \n",
        "# 학습 그래프 최적화 알고리즘 경사하강법\n",
        "train = tf.train.GradientDescentOptimizer(learning_rate=0.01).minimize(cost)\n",
        " \n",
        "# 예측값 H(X) > 0.5 is true, else false\n",
        "predicted = tf.cast(hypothesis > 0.5, dtype=tf.float32)\n",
        "# 0이나 1의 값을 트레이닝 횟수만큼 평균치 계산\n",
        "accuracy = tf.reduce_mean(tf.cast(tf.equal(predicted, Y), dtype=tf.float32))\n"
      ],
      "execution_count": null,
      "outputs": []
    },
    {
      "cell_type": "markdown",
      "metadata": {
        "id": "bswEUbV6Kdns",
        "colab_type": "text"
      },
      "source": [
        "### Train !"
      ]
    },
    {
      "cell_type": "code",
      "metadata": {
        "id": "ZqKOgjq0Kdns",
        "colab_type": "code",
        "colab": {}
      },
      "source": [
        "sess = tf.InteractiveSession()"
      ],
      "execution_count": null,
      "outputs": []
    },
    {
      "cell_type": "code",
      "metadata": {
        "id": "8LNSWHDzKdnv",
        "colab_type": "code",
        "colab": {}
      },
      "source": [
        "sess.run(tf.global_variables_initializer())"
      ],
      "execution_count": null,
      "outputs": []
    },
    {
      "cell_type": "code",
      "metadata": {
        "id": "CjXciB2fKdnz",
        "colab_type": "code",
        "colab": {
          "base_uri": "https://localhost:8080/",
          "height": 210
        },
        "outputId": "ce369810-eccb-44a4-a353-cc26ab92d62f"
      },
      "source": [
        "for step in range(10001):\n",
        "    cost_val,  _ = sess.run([cost, train], feed_dict={X:x_data, Y:y_data})\n",
        "\n",
        "    if step % 1000 == 0:\n",
        "        print(step, '\\t', cost_val)"
      ],
      "execution_count": null,
      "outputs": [
        {
          "output_type": "stream",
          "text": [
            "0 \t 1.4144474\n",
            "1000 \t 0.37228107\n",
            "2000 \t 0.31441885\n",
            "3000 \t 0.27369794\n",
            "4000 \t 0.24165194\n",
            "5000 \t 0.21592279\n",
            "6000 \t 0.19494627\n",
            "7000 \t 0.17759228\n",
            "8000 \t 0.16303825\n",
            "9000 \t 0.15067998\n",
            "10000 \t 0.1400682\n"
          ],
          "name": "stdout"
        }
      ]
    },
    {
      "cell_type": "markdown",
      "metadata": {
        "id": "_-Sthtk3Kdn3",
        "colab_type": "text"
      },
      "source": [
        "### Test !"
      ]
    },
    {
      "cell_type": "code",
      "metadata": {
        "id": "vOxow4sGKdn3",
        "colab_type": "code",
        "colab": {
          "base_uri": "https://localhost:8080/",
          "height": 34
        },
        "outputId": "229d74d3-210c-4618-91c0-26a779c827a6"
      },
      "source": [
        "sess.run(hypothesis,feed_dict={X:[[5,3]]} )"
      ],
      "execution_count": null,
      "outputs": [
        {
          "output_type": "execute_result",
          "data": {
            "text/plain": [
              "array([[0.945013]], dtype=float32)"
            ]
          },
          "metadata": {
            "tags": []
          },
          "execution_count": 11
        }
      ]
    },
    {
      "cell_type": "code",
      "metadata": {
        "id": "Wn7qrNHOEnbu",
        "colab_type": "code",
        "colab": {
          "base_uri": "https://localhost:8080/",
          "height": 34
        },
        "outputId": "3c4005ea-6e23-4736-dc81-627868e0f725"
      },
      "source": [
        "sess.run(hypothesis,feed_dict={X:[[4,3]]} )"
      ],
      "execution_count": null,
      "outputs": [
        {
          "output_type": "execute_result",
          "data": {
            "text/plain": [
              "array([[0.7902292]], dtype=float32)"
            ]
          },
          "metadata": {
            "tags": []
          },
          "execution_count": 14
        }
      ]
    },
    {
      "cell_type": "code",
      "metadata": {
        "id": "wPBbS_XhE8Rv",
        "colab_type": "code",
        "colab": {}
      },
      "source": [
        ""
      ],
      "execution_count": null,
      "outputs": []
    }
  ]
}