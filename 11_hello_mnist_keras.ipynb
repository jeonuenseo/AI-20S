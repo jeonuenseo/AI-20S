{
  "nbformat": 4,
  "nbformat_minor": 0,
  "metadata": {
    "colab": {
      "name": "11_hello_mnist_keras.ipynb",
      "provenance": [],
      "collapsed_sections": [],
      "authorship_tag": "ABX9TyO0S1tVU8pcikFxQ8bK6lG1",
      "include_colab_link": true
    },
    "kernelspec": {
      "name": "python3",
      "display_name": "Python 3"
    }
  },
  "cells": [
    {
      "cell_type": "markdown",
      "metadata": {
        "id": "view-in-github",
        "colab_type": "text"
      },
      "source": [
        "<a href=\"https://colab.research.google.com/github/jeonuenseo/eunseo/blob/master/11_hello_mnist_keras.ipynb\" target=\"_parent\"><img src=\"https://colab.research.google.com/assets/colab-badge.svg\" alt=\"Open In Colab\"/></a>"
      ]
    },
    {
      "cell_type": "markdown",
      "metadata": {
        "id": "aDr9Ix3NnQCo",
        "colab_type": "text"
      },
      "source": [
        "##MNIST 분류기"
      ]
    },
    {
      "cell_type": "code",
      "metadata": {
        "id": "HTHCrBbknOXN",
        "colab_type": "code",
        "colab": {}
      },
      "source": [
        "from keras.datasets import mnist\n",
        "from keras.models import Sequential\n",
        "from keras.layers.core import Dense, Activation\n",
        "from keras.utils import np_utils"
      ],
      "execution_count": 89,
      "outputs": []
    },
    {
      "cell_type": "code",
      "metadata": {
        "id": "WN9lR05Pnp3A",
        "colab_type": "code",
        "colab": {}
      },
      "source": [
        "(X_train, Y_train), (X_test, Y_test) = mnist.load_data()"
      ],
      "execution_count": 90,
      "outputs": []
    },
    {
      "cell_type": "code",
      "metadata": {
        "id": "c0Dapir-BDiQ",
        "colab_type": "code",
        "colab": {
          "base_uri": "https://localhost:8080/",
          "height": 34
        },
        "outputId": "cb26edd7-d1d1-4872-e0f0-9e9b743838c8"
      },
      "source": [
        "X_train.shape"
      ],
      "execution_count": 91,
      "outputs": [
        {
          "output_type": "execute_result",
          "data": {
            "text/plain": [
              "(60000, 28, 28)"
            ]
          },
          "metadata": {
            "tags": []
          },
          "execution_count": 91
        }
      ]
    },
    {
      "cell_type": "code",
      "metadata": {
        "id": "xUlX8QNmBGc1",
        "colab_type": "code",
        "colab": {
          "base_uri": "https://localhost:8080/",
          "height": 34
        },
        "outputId": "e7df032c-a69a-4dfb-ab83-b30a20c3642b"
      },
      "source": [
        "Y_train.shape"
      ],
      "execution_count": 92,
      "outputs": [
        {
          "output_type": "execute_result",
          "data": {
            "text/plain": [
              "(60000,)"
            ]
          },
          "metadata": {
            "tags": []
          },
          "execution_count": 92
        }
      ]
    },
    {
      "cell_type": "code",
      "metadata": {
        "id": "QmxqsB59BLBT",
        "colab_type": "code",
        "colab": {
          "base_uri": "https://localhost:8080/",
          "height": 34
        },
        "outputId": "0458d5e8-1463-4f2c-a018-8f1b357290e4"
      },
      "source": [
        "Y_train[1]"
      ],
      "execution_count": 93,
      "outputs": [
        {
          "output_type": "execute_result",
          "data": {
            "text/plain": [
              "0"
            ]
          },
          "metadata": {
            "tags": []
          },
          "execution_count": 93
        }
      ]
    },
    {
      "cell_type": "code",
      "metadata": {
        "id": "EUf5A2ONn5z3",
        "colab_type": "code",
        "colab": {}
      },
      "source": [
        "X_train = X_train.reshape(60000, 784)\n",
        "X_test = X_test.reshape(10000, 784)\n",
        "X_train = X_train.astype('float32')\n",
        "X_test = X_test.astype('float32')\n",
        "X_train/=255\n",
        "X_test/=255"
      ],
      "execution_count": 94,
      "outputs": []
    },
    {
      "cell_type": "code",
      "metadata": {
        "id": "rLWwbeMzBdE9",
        "colab_type": "code",
        "colab": {
          "base_uri": "https://localhost:8080/",
          "height": 34
        },
        "outputId": "c79d8939-1d3f-4848-93b6-970f8e147f38"
      },
      "source": [
        "Y_train[3]"
      ],
      "execution_count": 95,
      "outputs": [
        {
          "output_type": "execute_result",
          "data": {
            "text/plain": [
              "1"
            ]
          },
          "metadata": {
            "tags": []
          },
          "execution_count": 95
        }
      ]
    },
    {
      "cell_type": "code",
      "metadata": {
        "id": "0HmfilJTolcO",
        "colab_type": "code",
        "colab": {}
      },
      "source": [
        "classes = 10\n",
        "Y_train = np_utils.to_categorical(Y_train, classes)\n",
        "Y_test = np_utils.to_categorical(Y_test, classes)"
      ],
      "execution_count": 96,
      "outputs": []
    },
    {
      "cell_type": "code",
      "metadata": {
        "id": "WHy4B0iQp5Ff",
        "colab_type": "code",
        "colab": {}
      },
      "source": [
        "input_size = 784\n",
        "batch_size = 100\n",
        "hidden_neurons = 400\n",
        "epochs = 5"
      ],
      "execution_count": 97,
      "outputs": []
    },
    {
      "cell_type": "code",
      "metadata": {
        "id": "v88I9egBAVnH",
        "colab_type": "code",
        "colab": {}
      },
      "source": [
        "model = Sequential()\n",
        "model.add(Dense(hidden_neurons, input_dim=input_size)) \n",
        "model.add(Activation('relu'))     \n",
        "model.add(Dense(classes)) \n",
        "model.add(Activation('softmax'))"
      ],
      "execution_count": 98,
      "outputs": []
    },
    {
      "cell_type": "code",
      "metadata": {
        "id": "n1NG9_gjFymv",
        "colab_type": "code",
        "colab": {}
      },
      "source": [
        "#model = Sequential()\n",
        "#model.add(Dense(classes)) \n",
        "#model.add(Activation('softmax')) 위의 코드가 더 잘나옴"
      ],
      "execution_count": 99,
      "outputs": []
    },
    {
      "cell_type": "code",
      "metadata": {
        "id": "oE_j90dBAoz9",
        "colab_type": "code",
        "colab": {
          "base_uri": "https://localhost:8080/",
          "height": 90
        },
        "outputId": "a5d29a8a-3702-46aa-ebe0-39eef583cff6"
      },
      "source": [
        "from keras.utils import plot_model\n",
        "plot_model(model, to_file='model_mnist.png', show_shapes=True)"
      ],
      "execution_count": 100,
      "outputs": [
        {
          "output_type": "execute_result",
          "data": {
            "image/png": "[encoded data removed]",
            "text/plain": [
              "<IPython.core.display.Image object>"
            ]
          },
          "metadata": {
            "tags": []
          },
          "execution_count": 100
        }
      ]
    },
    {
      "cell_type": "code",
      "metadata": {
        "id": "TwPwYNMbAs8q",
        "colab_type": "code",
        "colab": {}
      },
      "source": [
        "model.compile(loss='categorical_crossentropy', \n",
        "    metrics=['accuracy'], optimizer='adadelta')"
      ],
      "execution_count": 101,
      "outputs": []
    },
    {
      "cell_type": "code",
      "metadata": {
        "id": "tIaRid9JAwwu",
        "colab_type": "code",
        "colab": {
          "base_uri": "https://localhost:8080/",
          "height": 210
        },
        "outputId": "f5d51210-78ec-4baf-d8bd-b94b586b068c"
      },
      "source": [
        "model.fit(X_train, Y_train, batch_size=batch_size, epochs=epochs, verbose=1)"
      ],
      "execution_count": 102,
      "outputs": [
        {
          "output_type": "stream",
          "text": [
            "Epoch 1/5\n",
            "60000/60000 [==============================] - 1s 18us/step - loss: 0.5954 - accuracy: 0.8511\n",
            "Epoch 2/5\n",
            "60000/60000 [==============================] - 1s 18us/step - loss: 0.3388 - accuracy: 0.9063\n",
            "Epoch 3/5\n",
            "60000/60000 [==============================] - 1s 18us/step - loss: 0.3098 - accuracy: 0.9138\n",
            "Epoch 4/5\n",
            "60000/60000 [==============================] - 1s 17us/step - loss: 0.2965 - accuracy: 0.9177\n",
            "Epoch 5/5\n",
            "60000/60000 [==============================] - 1s 18us/step - loss: 0.2881 - accuracy: 0.9195\n"
          ],
          "name": "stdout"
        },
        {
          "output_type": "execute_result",
          "data": {
            "text/plain": [
              "<keras.callbacks.callbacks.History at 0x7f90713d4ef0>"
            ]
          },
          "metadata": {
            "tags": []
          },
          "execution_count": 102
        }
      ]
    },
    {
      "cell_type": "code",
      "metadata": {
        "id": "UBN5WxvkAy4X",
        "colab_type": "code",
        "colab": {
          "base_uri": "https://localhost:8080/",
          "height": 70
        },
        "outputId": "34ce324f-4555-4611-d512-909e99eb90fd"
      },
      "source": [
        "score = model.evaluate(X_test, Y_test, verbose=1)\n",
        "print('\\n''Test accuracy:', score[1]) \n"
      ],
      "execution_count": 103,
      "outputs": [
        {
          "output_type": "stream",
          "text": [
            "10000/10000 [==============================] - 0s 22us/step\n",
            "\n",
            "Test accuracy: 0.921999990940094\n"
          ],
          "name": "stdout"
        }
      ]
    },
    {
      "cell_type": "code",
      "metadata": {
        "id": "l0a-lpAZA994",
        "colab_type": "code",
        "colab": {}
      },
      "source": [
        ""
      ],
      "execution_count": 103,
      "outputs": []
    }
  ]
}